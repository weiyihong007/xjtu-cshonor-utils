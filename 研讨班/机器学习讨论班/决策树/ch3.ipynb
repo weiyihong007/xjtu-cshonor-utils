{
 "cells": [
  {
   "cell_type": "markdown",
   "id": "1fc65b9f",
   "metadata": {
    "ExecuteTime": {
     "end_time": "2023-11-10T02:34:44.699873Z",
     "start_time": "2023-11-10T02:34:44.692986Z"
    },
    "slideshow": {
     "slide_type": "slide"
    }
   },
   "source": [
    "<div align = 'center'>\n",
    "    <font size=20> 钱院学辅--计学组联合开展 </font>\n",
    "<div/>\n",
    "        \n",
    "<table rules=\"none\" align=\"center\">\n",
    "\t\t<td>\n",
    "\t\t\t<center>\n",
    "\t\t\t\t<img src=\"img/logo2.png\" width=\"100%\" />\n",
    "\t\t\t</center>\n",
    "\t\t</td>\n",
    "\t\t<td>\n",
    "\t\t\t<center>\n",
    "\t\t\t\t<img src=\"img/logo.png\" width=\"100%\" />\n",
    "\t\t\t</center>\n",
    "\t\t</td>\n",
    "</table>\n"
   ]
  },
  {
   "cell_type": "markdown",
   "id": "24d554bd",
   "metadata": {
    "slideshow": {
     "slide_type": "slide"
    }
   },
   "source": [
    "# <center> 第三次讨论课 </center>\n",
    "# <center>决策树</center>\n"
   ]
  },
  {
   "cell_type": "markdown",
   "id": "e15858f4",
   "metadata": {
    "slideshow": {
     "slide_type": "slide"
    }
   },
   "source": [
    "## 信息熵\n",
    "\n",
    "### 信息量\n",
    "\n",
    "需要对信息的多少有一个量化的过程\\\n",
    "如何来衡量一件事信息多or少？\n",
    "- 今天是星期天\n",
    "- 明天会下雨\n",
    "- 西交是中国第一高校\\\n",
    "假设这些事都发生，哪句话给你带来的冲击最多？为什么？"
   ]
  },
  {
   "cell_type": "markdown",
   "id": "6e3a0c29",
   "metadata": {
    "slideshow": {
     "slide_type": "slide"
    }
   },
   "source": [
    "### 信息量\n",
    "\n",
    "显然，发生概率越低的事件，如果它真的发生了，能给你带来更多的信息，因此**信息量应该与概率有关**\n",
    "\n",
    "同时，信息量作为信息多少的度量，还需满足**可加性**，即两件事同时发生的信息量应该等于两件事信息量之和。\n",
    "\n",
    "<center>$I(x)+I(y) \\Leftrightarrow p(x)\\cdot p(y)$<center/>\n",
    "    \n",
    "自然可以想到利用对数函数描述这件事，再根据信息量的真实意义，我们有如下定义：\n",
    "<center>$I(x) = log_2{\\frac{1}{p(x)}} = -log_2{p(x)}$<center/>\n",
    "    \n",
    "它表示描述一件事情发生需要的最少比特数，单位也是bit"
   ]
  },
  {
   "cell_type": "markdown",
   "id": "886f5798",
   "metadata": {
    "slideshow": {
     "slide_type": "slide"
    }
   },
   "source": [
    "### 信息熵\n",
    "\n",
    "描述信息源各可能事件发生的**不确定性**\\\n",
    "真实表示了一个随机变量（整个系统）所容纳的信息量，或者**系统的混乱程度**\n",
    "- 今天是星期天\n",
    "- 明天会下雨\n",
    "- 西交是中国第一高校\\\n",
    "如果只是随口一说，哪句话给你带来最多的信息？为什么？"
   ]
  },
  {
   "cell_type": "markdown",
   "id": "56d9ea73",
   "metadata": {
    "slideshow": {
     "slide_type": "subslide"
    }
   },
   "source": [
    "### 信息熵\n",
    "\n",
    "需要考虑它们的乘积，一个不可能事件带给系统的混乱程度一定为0：\n",
    "- 今天是星期天 ——概率为1，信息量为0，乘积为0\n",
    "- 明天会下雨 ——概率为0.5，信息量为1，乘积为0.5\n",
    "- 西交是中国第一高校 ——概率为无穷小，信息量为无穷大，乘积为0\n",
    "\n",
    "因此，如果考虑整个随机变量的所有取值，信息熵应定义为信息量的数学期望：\n",
    "<center>$H(X) = \\sum\\limits_{i=1}^n -p(x_i)\\cdot log_2{p(x_i)}$<center/>\n",
    "    \n",
    "信息熵也被称作无损编码事件信息的最小平均编码长度"
   ]
  },
  {
   "cell_type": "markdown",
   "id": "7e778772",
   "metadata": {
    "slideshow": {
     "slide_type": "slide"
    }
   },
   "source": [
    "### 交叉熵\n",
    "\n",
    "交叉熵可以衡量我们基于某种主观认识q去感受客观世界p时，会产生的平均惊奇度[（后面内容有多处参考这篇知乎专栏）](https://zhuanlan.zhihu.com/p/624885363)\\\n",
    "换句话讲，我们知道随机变量p的分布律，但这些分布律却作用在q上，此时的信息熵就是交叉熵：(之后省略以2为底，其实这并不重要)\n",
    "<center>$H_{p,q}(X) = \\sum\\limits_{i=1}^n -p(x_i)\\cdot log \\ {q(x_i)}$<center/>\n",
    "\n",
    "可以证明，当q与p严重不匹配时，我们会产生极高的惊奇度，此时的交叉熵极大。当q=p时，我们产生的惊奇度最低，此时交叉熵等于信息熵。\n"
   ]
  },
  {
   "cell_type": "markdown",
   "id": "8f720727",
   "metadata": {
    "slideshow": {
     "slide_type": "slide"
    }
   },
   "source": [
    "### 相对熵（KL散度）\n",
    "\n",
    "相对熵即交叉熵与信息熵的差值，衡量着两个分布对于同一个变量的差异情况\n",
    "<center>$KL(p||q) = H_{p,q}(X) - H_p(X) = \\sum\\limits_{i=1}^n p(x_i)\\cdot log \\ \\frac{p(x_i)}{q(x_i)}$<center/>\n",
    "<center>$-KL(p||q) \\leq log \\ \\sum\\limits_{i=1}^n p(x_i)\\cdot \\frac{q(x_i)}{p(x_i)} = 0 $<center/>\n",
    "    \n",
    "即相对熵大于0，故交叉熵一定大于原信息熵"
   ]
  },
  {
   "cell_type": "markdown",
   "id": "6858c357",
   "metadata": {
    "ExecuteTime": {
     "end_time": "2023-11-10T03:47:50.102914Z",
     "start_time": "2023-11-10T03:47:50.098605Z"
    },
    "slideshow": {
     "slide_type": "slide"
    }
   },
   "source": [
    "## 决策树\n",
    "(偷懒了直接拿电子书讲)\\\n",
    "要点： 条件熵 $H(X,Y) = H(X|Y) + H(Y)$\\\n",
    "条件熵一定不大于无条件熵$H(X) \\geq H(X|Y)$，X，Y独立时取等号\\\n",
    "这意味着给任何信息都有助于减少系统的混乱程度。"
   ]
  },
  {
   "cell_type": "markdown",
   "id": "35c6e606",
   "metadata": {
    "ExecuteTime": {
     "end_time": "2023-11-12T03:22:01.163171Z",
     "start_time": "2023-11-12T03:22:01.159497Z"
    },
    "slideshow": {
     "slide_type": "slide"
    }
   },
   "source": [
    "## 总结\n",
    "\n",
    "1．分类决策树模型是表示基于特征对实例进行分类的树形结构。决策树可以转换成一个**if-then**规则的集合，也可以看作是定义在特征空间划分上的类的条件概率分布。\n",
    "\n",
    "2．决策树学习旨在构建一个与训练数据拟合很好，并且复杂度小的决策树。因为从可能的决策树中直接选取最优决策树是NP完全问题。现实中采用启发式方法学习次优的决策树。\n",
    "\n",
    "决策树学习算法包括3部分：特征选择、树的生成和树的剪枝。常用的算法有ID3、\n",
    "C4.5和CART。\n"
   ]
  },
  {
   "cell_type": "markdown",
   "id": "a84330d1",
   "metadata": {
    "slideshow": {
     "slide_type": "subslide"
    }
   },
   "source": [
    "3．特征选择的目的在于选取对训练数据能够分类的特征。特征选择的关键是其准则。常用的准则如下：\n",
    "\n",
    "（1）样本集合$D$对特征$A$的信息增益（ID3）\n",
    "\n",
    "\n",
    "$$g(D, A)=H(D)-H(D|A)$$\n",
    "\n",
    "$$H(D)=-\\sum_{k=1}^{K} \\frac{\\left|C_{k}\\right|}{|D|} \\log _{2} \\frac{\\left|C_{k}\\right|}{|D|}$$\n",
    "\n",
    "$$H(D | A)=\\sum_{i=1}^{n} \\frac{\\left|D_{i}\\right|}{|D|} H\\left(D_{i}\\right)$$\n",
    "\n",
    "其中，$H(D)$是数据集$D$的熵，$H(D_i)$是数据集$D_i$的熵，$H(D|A)$是数据集$D$对特征$A$的条件熵。\t$D_i$是$D$中特征$A$取第$i$个值的样本子集，$C_k$是$D$中属于第$k$类的样本子集。$n$是特征$A$取 值的个数，$K$是类的个数。\n",
    "\n",
    "（2）样本集合$D$对特征$A$的信息增益比（C4.5）\n",
    "\n",
    "\n",
    "$$g_{R}(D, A)=\\frac{g(D, A)}{H(D)}$$\n",
    "\n",
    "\n",
    "其中，$g(D,A)$是信息增益，$H(D)$是数据集$D$的熵。\n",
    "\n",
    "（3）样本集合$D$的基尼指数（CART）\n",
    "\n",
    "$$\\operatorname{Gini}(D)=1-\\sum_{k=1}^{K}\\left(\\frac{\\left|C_{k}\\right|}{|D|}\\right)^{2}$$\n",
    "\n",
    "特征$A$条件下集合$D$的基尼指数：\n",
    "\n",
    " $$\\operatorname{Gini}(D, A)=\\frac{\\left|D_{1}\\right|}{|D|} \\operatorname{Gini}\\left(D_{1}\\right)+\\frac{\\left|D_{2}\\right|}{|D|} \\operatorname{Gini}\\left(D_{2}\\right)$$"
   ]
  },
  {
   "cell_type": "markdown",
   "id": "269a1beb",
   "metadata": {
    "slideshow": {
     "slide_type": "subslide"
    }
   },
   "source": [
    " \n",
    "4．决策树的生成。通常使用信息增益最大、信息增益比最大或基尼指数最小作为特征选择的准则。决策树的生成往往通过计算信息增益或其他指标，从根结点开始，递归地产生决策树。这相当于用信息增益或其他准则不断地选取局部最优的特征，或将训练集分割为能够基本正确分类的子集。\n",
    "\n",
    "5．决策树的剪枝。由于生成的决策树存在过拟合问题，需要对它进行剪枝，以简化学到的决策树。决策树的剪枝，往往从已生成的树上剪掉一些叶结点或叶结点以上的子树，并将其父结点或根结点作为新的叶结点，从而简化生成的决策树。"
   ]
  },
  {
   "cell_type": "markdown",
   "id": "9ca2e5d4",
   "metadata": {
    "ExecuteTime": {
     "end_time": "2023-11-12T03:24:03.390394Z",
     "start_time": "2023-11-12T03:24:03.387717Z"
    },
    "slideshow": {
     "slide_type": "slide"
    }
   },
   "source": [
    "# 逻辑斯蒂回归与最大熵原理\n",
    "\n",
    "## 逻辑斯蒂回归\n",
    "\n",
    "感知机模型\n",
    "<center>$f(x) = sign(w\\cdot x+b)$</center>\n",
    "逻辑斯蒂回归模型\n",
    "<center>$P(y=i|x) = \\frac{e^{w_i\\cdot x}}{1 + \\sum\\limits_{k=1}^{N-1}e^{w_k\\cdot x}}$</center>\n",
    "\n",
    "实则是在拟合对数几率（log odds）\\\n",
    "如果我们将分母中的1也变成e的指数形式，那么这就变成了单层感知机+softmax函数\\\n",
    "令$\\hat y = w\\cdot x$,则交叉熵损失函数对$\\hat y$求导为$y - \\hat y$，其中y为0或1，表示真实分类概率。"
   ]
  },
  {
   "cell_type": "code",
   "execution_count": 1,
   "id": "4a361ba2",
   "metadata": {
    "ExecuteTime": {
     "end_time": "2023-11-12T08:44:55.871879Z",
     "start_time": "2023-11-12T08:44:51.793475Z"
    },
    "slideshow": {
     "slide_type": "slide"
    }
   },
   "outputs": [],
   "source": [
    "from math import exp\n",
    "import numpy as np\n",
    "import pandas as pd\n",
    "import matplotlib.pyplot as plt\n",
    "%matplotlib inline\n",
    "\n",
    "from sklearn.datasets import load_iris\n",
    "from sklearn.model_selection import train_test_split\n",
    "# data\n",
    "def create_data():\n",
    "    iris = load_iris()\n",
    "    df = pd.DataFrame(iris.data, columns=iris.feature_names)\n",
    "    df['label'] = iris.target\n",
    "    df.columns = ['sepal length', 'sepal width', 'petal length', 'petal width', 'label']\n",
    "    data = np.array(df.iloc[:100, [0,1,-1]])\n",
    "    # print(data)\n",
    "    return data[:,:2], data[:,-1]\n",
    "X, y = create_data()\n",
    "X_train, X_test, y_train, y_test = train_test_split(X, y, test_size=0.3)"
   ]
  },
  {
   "cell_type": "code",
   "execution_count": 2,
   "id": "1f76d9de",
   "metadata": {
    "ExecuteTime": {
     "end_time": "2023-11-12T08:45:06.560931Z",
     "start_time": "2023-11-12T08:45:06.545463Z"
    }
   },
   "outputs": [],
   "source": [
    "class LogisticReressionClassifier:\n",
    "    def __init__(self, max_iter=200, learning_rate=0.01):\n",
    "        self.max_iter = max_iter\n",
    "        self.learning_rate = learning_rate\n",
    "\n",
    "    def sigmoid(self, x):\n",
    "        return 1 / (1 + exp(-x))\n",
    "\n",
    "    def data_matrix(self, X):\n",
    "        data_mat = []\n",
    "        for d in X:\n",
    "            data_mat.append([1.0, *d])\n",
    "        return data_mat\n",
    "\n",
    "    def fit(self, X, y):\n",
    "        # label = np.mat(y)\n",
    "        data_mat = self.data_matrix(X)  # m*n\n",
    "        self.weights = np.zeros((len(data_mat[0]), 1), dtype=np.float32)\n",
    "\n",
    "        for iter_ in range(self.max_iter):\n",
    "            for i in range(len(X)):\n",
    "                result = self.sigmoid(np.dot(data_mat[i], self.weights))\n",
    "                error = y[i] - result\n",
    "                self.weights += self.learning_rate * error * np.transpose(\n",
    "                    [data_mat[i]])\n",
    "        print('LogisticRegression Model(learning_rate={},max_iter={})'.format(\n",
    "            self.learning_rate, self.max_iter))\n",
    "\n",
    "    # def f(self, x):\n",
    "    #     return -(self.weights[0] + self.weights[1] * x) / self.weights[2]\n",
    "\n",
    "    def score(self, X_test, y_test):\n",
    "        right = 0\n",
    "        X_test = self.data_matrix(X_test)\n",
    "        for x, y in zip(X_test, y_test):\n",
    "            result = np.dot(x, self.weights)\n",
    "            if (result > 0 and y == 1) or (result < 0 and y == 0):\n",
    "                right += 1\n",
    "        return right / len(X_test)"
   ]
  },
  {
   "cell_type": "code",
   "execution_count": 7,
   "id": "55728447",
   "metadata": {
    "ExecuteTime": {
     "end_time": "2023-11-12T05:11:40.892167Z",
     "start_time": "2023-11-12T05:11:40.441217Z"
    }
   },
   "outputs": [
    {
     "name": "stdout",
     "output_type": "stream",
     "text": [
      "LogisticRegression Model(learning_rate=0.01,max_iter=200)\n",
      "1.0\n"
     ]
    },
    {
     "data": {
      "text/plain": [
       "<matplotlib.legend.Legend at 0x289a2151b50>"
      ]
     },
     "execution_count": 7,
     "metadata": {},
     "output_type": "execute_result"
    },
    {
     "data": {
      "image/png": "[encoded data removed]",
      "text/plain": [
       "<Figure size 640x480 with 1 Axes>"
      ]
     },
     "metadata": {},
     "output_type": "display_data"
    }
   ],
   "source": [
    "lr_clf = LogisticReressionClassifier()\n",
    "lr_clf.fit(X_train, y_train)\n",
    "\n",
    "print(lr_clf.score(X_test, y_test))\n",
    "\n",
    "x_ponits = np.arange(4, 8)\n",
    "y_ = -(lr_clf.weights[1]*x_ponits + lr_clf.weights[0])/lr_clf.weights[2]\n",
    "plt.plot(x_ponits, y_)\n",
    "plt.scatter(X[:50,0],X[:50,1], label='0')\n",
    "plt.scatter(X[50:,0],X[50:,1], label='1')\n",
    "plt.legend()"
   ]
  },
  {
   "cell_type": "code",
   "execution_count": 12,
   "id": "63238f05",
   "metadata": {
    "ExecuteTime": {
     "end_time": "2023-11-12T05:14:54.064803Z",
     "start_time": "2023-11-12T05:14:53.943359Z"
    },
    "slideshow": {
     "slide_type": "slide"
    }
   },
   "outputs": [
    {
     "name": "stdout",
     "output_type": "stream",
     "text": [
      "1.0\n"
     ]
    },
    {
     "name": "stderr",
     "output_type": "stream",
     "text": [
      "C:\\Users\\0d00\\AppData\\Local\\Temp\\ipykernel_9076\\2088575802.py:10: UserWarning: color is redundantly defined by the 'color' keyword argument and the fmt string \"bo\" (-> color='b'). The keyword argument will take precedence.\n",
      "  plt.plot(X[:50, 0], X[:50, 1], 'bo',color='b', label='0')\n",
      "C:\\Users\\0d00\\AppData\\Local\\Temp\\ipykernel_9076\\2088575802.py:11: UserWarning: color is redundantly defined by the 'color' keyword argument and the fmt string \"bo\" (-> color='b'). The keyword argument will take precedence.\n",
      "  plt.plot(X[50:, 0], X[50:, 1], 'bo',color='orange', label='1')\n"
     ]
    },
    {
     "data": {
      "text/plain": [
       "<matplotlib.legend.Legend at 0x289a8211b50>"
      ]
     },
     "execution_count": 12,
     "metadata": {},
     "output_type": "execute_result"
    },
    {
     "data": {
      "image/png": "[encoded data removed]",
      "text/plain": [
       "<Figure size 640x480 with 1 Axes>"
      ]
     },
     "metadata": {},
     "output_type": "display_data"
    }
   ],
   "source": [
    "from sklearn.linear_model import LogisticRegression\n",
    "clf = LogisticRegression(max_iter=200)\n",
    "clf.fit(X_train, y_train)\n",
    "\n",
    "print(clf.score(X_test, y_test))\n",
    "\n",
    "x_ponits = np.arange(4, 8)\n",
    "y_ = -(clf.coef_[0][0]*x_ponits + clf.intercept_)/clf.coef_[0][1]\n",
    "plt.plot(x_ponits, y_)\n",
    "plt.plot(X[:50, 0], X[:50, 1], 'bo',color='b', label='0')\n",
    "plt.plot(X[50:, 0], X[50:, 1], 'bo',color='orange', label='1')\n",
    "plt.xlabel('sepal length')\n",
    "plt.ylabel('sepal width')\n",
    "plt.legend()"
   ]
  },
  {
   "cell_type": "markdown",
   "id": "19e68ec7",
   "metadata": {
    "slideshow": {
     "slide_type": "slide"
    }
   },
   "source": [
    "## 最大熵模型\n",
    "\n",
    "$$P_{w}(y | x)=\\frac{1}{Z_{w}(x)} \\exp \\left(\\sum_{i=1}^{n} w_{i} f_{i}(x, y)\\right)$$\n",
    "$$Z_{w}(x)=\\sum_{y} \\exp \\left(\\sum_{i=1}^{n} w_{i} f_{i}(x, y)\\right)$$\n",
    "\n",
    "- 无约束条件 均匀分布\n",
    "- 已知期望 指数分布\n",
    "- 已知期望方差 正态分布"
   ]
  },
  {
   "cell_type": "code",
   "execution_count": null,
   "id": "66f1df76",
   "metadata": {
    "slideshow": {
     "slide_type": "slide"
    }
   },
   "outputs": [],
   "source": []
  }
 ],
 "metadata": {
  "celltoolbar": "幻灯片",
  "kernelspec": {
   "display_name": "Python 3 (ipykernel)",
   "language": "python",
   "name": "python3"
  },
  "language_info": {
   "codemirror_mode": {
    "name": "ipython",
    "version": 3
   },
   "file_extension": ".py",
   "mimetype": "text/x-python",
   "name": "python",
   "nbconvert_exporter": "python",
   "pygments_lexer": "ipython3",
   "version": "3.11.5"
  }
 },
 "nbformat": 4,
 "nbformat_minor": 5
}
